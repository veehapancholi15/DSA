{
 "cells": [
  {
   "cell_type": "code",
   "execution_count": 2,
   "metadata": {},
   "outputs": [
    {
     "name": "stdout",
     "output_type": "stream",
     "text": [
      "[10, 20, '10', '20']\n",
      "[10, 20, '10']\n"
     ]
    }
   ],
   "source": [
    "class Stack: \n",
    "    def __init__(self,list,insertele,n): \n",
    "        self.list=list\n",
    "        self.insertele=insertele\n",
    "        self.n=n \n",
    "    def push(self):\n",
    "        self.list.append(self.insertele)\n",
    "    def pop(self):\n",
    "        self.list.pop()\n",
    "        print(self.list)\n",
    "list1=[10,20]\n",
    "n=int(input(\"Enter the number of elements in the Stack: \"))\n",
    "for i in range(0,n):\n",
    "    insertele=input(\"enter the element to be inserted in stack: \")\n",
    "    stackop=Stack(list1,insertele,n)\n",
    "    stackop.push()\n",
    "print(stackop.list)\n",
    "stackop.pop()"
   ]
  },
  {
   "cell_type": "code",
   "execution_count": null,
   "metadata": {},
   "outputs": [],
   "source": []
  }
 ],
 "metadata": {
  "kernelspec": {
   "display_name": "Python 3",
   "language": "python",
   "name": "python3"
  },
  "language_info": {
   "codemirror_mode": {
    "name": "ipython",
    "version": 3
   },
   "file_extension": ".py",
   "mimetype": "text/x-python",
   "name": "python",
   "nbconvert_exporter": "python",
   "pygments_lexer": "ipython3",
   "version": "3.12.7"
  }
 },
 "nbformat": 4,
 "nbformat_minor": 2
}
